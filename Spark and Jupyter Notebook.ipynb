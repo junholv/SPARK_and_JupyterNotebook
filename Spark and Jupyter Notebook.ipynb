{
 "cells": [
  {
   "cell_type": "markdown",
   "metadata": {},
   "source": [
    "# <center> Introduction\n",
    "we will learn how to program in Spark for processing data using functions such as map, reduce, filter, etc. We use Python 3 in jupyter notebook to interact with Spark.\n",
    "    Junholv OBO\n",
    " <center>"
   ]
  },
  {
   "cell_type": "markdown",
   "metadata": {},
   "source": [
    "## First  INSTALL SPARK AND JAVA\n",
    "For Install Spark\n",
    "    You need install java, but java8\n",
    "    \n",
    "I use brew:\n",
    "\n",
    "brew cask install homebrew/cask-versions/java8\n",
    "\n",
    "Next I install Spark:\n",
    "\n",
    "brew install apache-spark\n",
    "\n",
    "If you want to see your Spark version to check:\n",
    "\n",
    "    brew info apache-spark\n",
    "\n",
    "#take a adress\n",
    "#prendre l'adresse /usr machin \n",
    "\n",
    "sudo chown -R $(whoami) $(brew --prefix)/*\n",
    "\n",
    "sudo chown -R $USER:admin /usr/local/include\n",
    "\n",
    "#Use brew if it doesn't works\n",
    "brew doctor\n",
    "\n",
    "'export PATH=\"/usr/local/sbin:$PATH\"' >> ~/.bash_profile\n",
    "\n",
    "\n",
    "export SPARK_HOME=\"/usr/local/Cellar/apache-spark/2.4.0/libexec/\" >> ~/.bash_profile\n",
    "\n",
    "/usr/local/Cellar/apache-spark/2.4.0\n",
    "\n",
    "/usr/local/Cellar/apache-spark/2.4.0\n",
    "\n",
    "\n",
    "export JAVA_HOME='/usr/libexec/java_home -v 1.8.0_201'\n",
    "\n",
    "\n",
    "Be careful Spar works with java8 if you have another version \n",
    "please delete it.\n",
    "\n",
    "---- supprime java\n",
    "In terminal go to your librarie, for me is: \n",
    "\n",
    "    cd /Library/Java/JavaVirtualMachines\n",
    "    sudo rm -rf jdk-11.0.1.jdk\n",
    "    sudo rm -rf openjdk-11.0.2.jdk\n",
    "    java -version\n",
    "It should be screen your java8 version."
   ]
  },
  {
   "cell_type": "markdown",
   "metadata": {},
   "source": [
    "# Tree Dataset \n",
    "\n",
    "I use the data set on this website:\n",
    "                https://opendata.paris.fr/explore/dataset/arbresremarquablesparis/table/location=12,48.85652,2.34897&basemap=jawg.streets\n",
    "\n",
    "And i dowload it."
   ]
  },
  {
   "cell_type": "code",
   "execution_count": 1,
   "metadata": {},
   "outputs": [],
   "source": [
    "#import The library\n",
    "from pyspark import SparkConf, SparkContext"
   ]
  },
  {
   "cell_type": "markdown",
   "metadata": {},
   "source": [
    "I Open the file and create RDD called tree_RDD\n",
    "# Task 1 "
   ]
  },
  {
   "cell_type": "code",
   "execution_count": 2,
   "metadata": {},
   "outputs": [],
   "source": [
    "# Execution context for spark-submit\n",
    "appName = \"tpSpark\"\n",
    "conf = SparkConf().setAppName(appName)\n",
    "sc = SparkContext(conf=conf)\n",
    "\n",
    "tree_RDD = sc.textFile(\"tree.csv\")"
   ]
  },
  {
   "cell_type": "markdown",
   "metadata": {},
   "source": [
    "# Task 2"
   ]
  },
  {
   "cell_type": "code",
   "execution_count": 3,
   "metadata": {},
   "outputs": [
    {
     "name": "stdout",
     "output_type": "stream",
     "text": [
      "184\n"
     ]
    }
   ],
   "source": [
    "#I will Display the number of line in this file and show the result with print\n",
    "print(tree_RDD.count())"
   ]
  },
  {
   "cell_type": "code",
   "execution_count": 4,
   "metadata": {},
   "outputs": [
    {
     "data": {
      "text/plain": [
       "pyspark.rdd.RDD"
      ]
     },
     "execution_count": 4,
     "metadata": {},
     "output_type": "execute_result"
    }
   ],
   "source": [
    "type(tree_RDD)"
   ]
  },
  {
   "cell_type": "markdown",
   "metadata": {},
   "source": [
    "# Task 3"
   ]
  },
  {
   "cell_type": "markdown",
   "metadata": {},
   "source": [
    "### class for processing le file tree.csv"
   ]
  },
  {
   "cell_type": "code",
   "execution_count": 5,
   "metadata": {},
   "outputs": [],
   "source": [
    "# Every instance represente one line in the file\n",
    "class Tree(object):\n",
    "\n",
    "    # constructor\n",
    "    def __init__(self, ligne):\n",
    "        # separation of the files in a line\n",
    "        self.champs = ligne.split(\";\")\n",
    "\n",
    "    # display (equivalent to toString())\n",
    "    def __str__(self):\n",
    "        return \"Arbre[%s]\" % ', '.join(self.champs)\n",
    "\n",
    "    # return the kind of tree or None if we are in the title of the line\n",
    "    def kind(self):\n",
    "        if self.champs[2] == u'GENRE':\n",
    "            return None\n",
    "        return self.champs[2]\n",
    "\n",
    "    # return the height of the tree or None if we are in the title of the line\n",
    "    def hauteur(self):\n",
    "        if self.champs[12] == u'HAUTEUR EN M':\n",
    "            return None\n",
    "        return float(self.champs[12])\n"
   ]
  },
  {
   "cell_type": "code",
   "execution_count": 6,
   "metadata": {},
   "outputs": [],
   "source": [
    "#Import Tree from the class tree\n",
    "from tree import Tree\n",
    "\n",
    "def constructTree(line):\n",
    "    return Tree(line)\n",
    "\n",
    "# Construct the tree from every line of the file tree.csv\n",
    "trees = tree_RDD.map(constructTree)"
   ]
  },
  {
   "cell_type": "code",
   "execution_count": 7,
   "metadata": {},
   "outputs": [
    {
     "name": "stdout",
     "output_type": "stream",
     "text": [
      "[None, 5.0, 15.0, 32.0, 40.0, 19.0, 15.0, 10.0, 14.0, 23.0, 13.0, 15.0, 30.0, 18.0, 15.0, 10.0, 26.0, 30.0, 13.0, 13.0, 9.0, 20.0, 30.0, 28.0, 10.0, 28.0, 20.0, 14.0, 16.0, 28.0, 21.0, 11.0, 23.0, 30.0, 13.0, 5.0, 20.0, 6.0, 34.0, 10.0, 30.0, 27.0, 30.0, 35.0, 5.0, 28.0, 20.0, 25.0, 26.0, 14.0, 12.0, 21.0, 31.0, 21.0, 26.0, 25.0, 12.0, 16.0, 20.0, 14.0, 28.0, 4.0, 28.0, 24.0, 17.0, 8.0, 23.0, 31.0, 26.0, 4.0, 15.0, 10.0, 25.0, 8.0, 27.0, 25.0, 25.0, 17.0, 15.0, 22.0, 18.0, 28.0, 10.0, 24.0, 11.0, 25.0, 27.0, 12.0, 20.0, 18.0, 12.0, 25.0, 10.0, 15.0, 26.0, 20.0, 14.0, 3.0, 30.0, 14.0, 20.0, 10.0, 13.0, 28.0, 24.0, 30.0, 16.0, 16.0, 14.0, 21.0, 13.0, 25.0, 27.0, 21.0, 29.0, 28.0, 9.0, 9.0, 11.0, 26.0, 15.0, 20.0, 3.0, 3.0, 10.0, 30.0, 19.0, 4.0, 12.0, 19.0, 35.0, 7.0, 32.0, 15.0, 12.0, 16.0, 14.0, 19.0, 24.0, 21.0, 23.0, 40.0, 30.0, 18.0, 10.0, 15.0, 11.0, 15.0, 18.0, 25.0, 22.0, 25.0, 24.0, 25.0, 22.0, 16.0, 22.0, 16.0, 20.0, 25.0, 17.0, 6.0, 45.0, 23.0, 26.0, 10.0, 26.0, 17.0, 18.0, 25.0, 12.0, 6.0, 26.0, 25.0, 25.0, 27.0, 12.0, 18.0, 29.0, 7.0, 18.0, 16.0, 27.0, 15.0]\n"
     ]
    }
   ],
   "source": [
    "#function to get tree hauteur\n",
    "def gettree(tree_i):\n",
    "    return(tree_i.hauteur())\n",
    "tree_hights = trees.map(gettree) # I define the function for the paremeter of map\n",
    "\n",
    "print(tree_hights.collect())"
   ]
  },
  {
   "cell_type": "markdown",
   "metadata": {},
   "source": [
    "# Task 4"
   ]
  },
  {
   "cell_type": "code",
   "execution_count": 8,
   "metadata": {},
   "outputs": [
    {
     "ename": "NameError",
     "evalue": "name 'filterd_tree_hights' is not defined",
     "output_type": "error",
     "traceback": [
      "\u001b[0;31m---------------------------------------------------------------------------\u001b[0m",
      "\u001b[0;31mNameError\u001b[0m                                 Traceback (most recent call last)",
      "\u001b[0;32m<ipython-input-8-00ade6764a04>\u001b[0m in \u001b[0;36m<module>\u001b[0;34m\u001b[0m\n\u001b[0;32m----> 1\u001b[0;31m \u001b[0mprint\u001b[0m\u001b[0;34m(\u001b[0m\u001b[0mfilterd_tree_hights\u001b[0m\u001b[0;34m)\u001b[0m\u001b[0;34m\u001b[0m\u001b[0;34m\u001b[0m\u001b[0m\n\u001b[0m",
      "\u001b[0;31mNameError\u001b[0m: name 'filterd_tree_hights' is not defined"
     ]
    }
   ],
   "source": [
    "print(filterd_tree_hights)"
   ]
  },
  {
   "cell_type": "code",
   "execution_count": null,
   "metadata": {},
   "outputs": [],
   "source": [
    "#You can see in tree_hights.collect() we have a None value \n",
    "#Remove None values in tree_hights using a filter.\n",
    "#I define a function for the paremeter of filter\n",
    "\n",
    "def bool_to_int(n):\n",
    "    \n",
    "    if n == None :\n",
    "        return (False)\n",
    "    else :\n",
    "         return(True)\n",
    "        \n",
    "filterd_tree_hights= tree_hights.filter(bool_to_int)\n",
    "print(filterd_tree_hights.collect())"
   ]
  },
  {
   "cell_type": "markdown",
   "metadata": {},
   "source": [
    "# Task 5"
   ]
  },
  {
   "cell_type": "code",
   "execution_count": null,
   "metadata": {},
   "outputs": [],
   "source": [
    "#I Use reduce to calculate sum of the height of all trees\n",
    "def cumulativeSum(accum, n):\n",
    "    return(accum + n)\n",
    " \n",
    "sum_height = filterd_tree_hights.reduce(cumulativeSum)   \n",
    "print(sum_height)"
   ]
  },
  {
   "cell_type": "markdown",
   "metadata": {},
   "source": [
    "# Task 6"
   ]
  },
  {
   "cell_type": "code",
   "execution_count": null,
   "metadata": {},
   "outputs": [],
   "source": [
    "#Here i show the average height of all trees : \n",
    "#average = sum of the height of all trees  / number of trees\n",
    "\n",
    "ave = sum_height /(tree_RDD.count()-1)\n",
    "print(ave)"
   ]
  },
  {
   "cell_type": "markdown",
   "metadata": {},
   "source": [
    "# Task 7"
   ]
  },
  {
   "cell_type": "code",
   "execution_count": null,
   "metadata": {},
   "outputs": [],
   "source": [
    "#Here i use the predefined method mean to verify the results with Task 7\n",
    "# hint : try with filterd_tree_hights.mean()\n",
    "\n",
    "filterd_tree_hights.mean()\n"
   ]
  },
  {
   "cell_type": "markdown",
   "metadata": {},
   "source": [
    "# Task 8"
   ]
  },
  {
   "cell_type": "code",
   "execution_count": null,
   "metadata": {},
   "outputs": [],
   "source": [
    "# I need to construct the pairs (height, kind) from RDD trees\n",
    "# hint : pair_height_kind = tress.map(...) you should define the function for the paremeter of map\n",
    "def hautKind(tree_i):\n",
    "    return(tree_i.hauteur(),tree_i.kind())\n",
    "\n",
    "pair_height_kind = trees.map(hautKind)\n",
    "\n",
    "print(pair_height_kind.collect())\n"
   ]
  },
  {
   "cell_type": "code",
   "execution_count": null,
   "metadata": {},
   "outputs": [],
   "source": [
    "#Function for None value\n",
    "def bool_to_int2(n_w): \n",
    "    n,w =n_w\n",
    "    if n == None or w== None:\n",
    "        return (False)\n",
    "    else :\n",
    "         return(True)"
   ]
  },
  {
   "cell_type": "code",
   "execution_count": null,
   "metadata": {},
   "outputs": [],
   "source": [
    "#We filtered the None values\n",
    "filterd_height_kind = pair_height_kind.filter(bool_to_int2)\n",
    "print(filterd_height_kind.collect())"
   ]
  },
  {
   "cell_type": "code",
   "execution_count": null,
   "metadata": {},
   "outputs": [],
   "source": [
    "# rank the tree with the pair by descending order\n",
    "ranking = filterd_height_kind.sortByKey(ascending=False)\n",
    "\n",
    "# show the first pair which has the largest height\n",
    "rank_one = ranking.first()\n",
    "print (rank_one)"
   ]
  },
  {
   "cell_type": "markdown",
   "metadata": {},
   "source": [
    "# Task 9"
   ]
  },
  {
   "cell_type": "code",
   "execution_count": null,
   "metadata": {},
   "outputs": [],
   "source": [
    "#I use the predefined method max to get very the results with Task 8\n",
    "# I will try  with the function max\n",
    "filterd_height_kind.max()\n",
    "\n"
   ]
  },
  {
   "cell_type": "code",
   "execution_count": null,
   "metadata": {},
   "outputs": [],
   "source": [
    "# Task 10 : construct the pair (kind_of_tree, 1)\n",
    "def pairto1(Ktree_hauteur):\n",
    "    Ktree,hauteur = Ktree_hauteur\n",
    "    return(hauteur,1)\n",
    "\n",
    "Nfilterd_height_kind = filterd_height_kind.map(pairto1)\n",
    "\n",
    "print(Nfilterd_height_kind.collect())"
   ]
  },
  {
   "cell_type": "code",
   "execution_count": null,
   "metadata": {},
   "outputs": [],
   "source": []
  }
 ],
 "metadata": {
  "kernelspec": {
   "display_name": "Python 3",
   "language": "python",
   "name": "python3"
  },
  "language_info": {
   "codemirror_mode": {
    "name": "ipython",
    "version": 3
   },
   "file_extension": ".py",
   "mimetype": "text/x-python",
   "name": "python",
   "nbconvert_exporter": "python",
   "pygments_lexer": "ipython3",
   "version": "3.7.2"
  }
 },
 "nbformat": 4,
 "nbformat_minor": 2
}
